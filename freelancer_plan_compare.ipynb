{
 "cells": [
  {
   "cell_type": "code",
   "execution_count": 50,
   "metadata": {},
   "outputs": [],
   "source": [
    "import yaml\n",
    "import tiktoken\n",
    "\n",
    "from langchain import OpenAI, VectorDBQA, LLMChain\n",
    "from langchain.prompts import PromptTemplate\n",
    "\n",
    "from pdf_loaders import PdfToTextLoader\n",
    "from dataset_vectorizers import DatasetVectorizer\n",
    "\n",
    "with open(\"config.yml\", \"r\") as f:\n",
    "    config = yaml.safe_load(f)\n",
    "\n",
    "OPENAI_API_KEY = config['OPENAI_KEY']"
   ]
  },
  {
   "attachments": {},
   "cell_type": "markdown",
   "metadata": {},
   "source": [
    "## Loading data from PDF"
   ]
  },
  {
   "cell_type": "code",
   "execution_count": 51,
   "metadata": {},
   "outputs": [],
   "source": [
    "# data taken from https://www.freelancersunion.org/insurance/health/bronze-plans-nyc/\n",
    "PDFS, NAMES, TXTS  = [\n",
    "    './data/2023_EmblemHealth_Bronze_D.pdf',\n",
    "    './data/BH2_SB_OX_2023_v1_-_Bronze_HSA_Non-Standard_Off-Exchange.pdf'\n",
    "], [\n",
    "    'EmblemHealth', \n",
    "    'MetroPlus'\n",
    "], []\n"
   ]
  },
  {
   "cell_type": "code",
   "execution_count": 52,
   "metadata": {},
   "outputs": [],
   "source": [
    "for pdf_path in PDFS:\n",
    "    txt_path = pdf_path.replace(\".pdf\", \".txt\")\n",
    "    pdf_loader = PdfToTextLoader(pdf_path, txt_path)\n",
    "    text = pdf_loader.load_pdf()\n",
    "    TXTS.append(txt_path)"
   ]
  },
  {
   "attachments": {},
   "cell_type": "markdown",
   "metadata": {},
   "source": [
    "## Vectorizing dataset"
   ]
  },
  {
   "cell_type": "code",
   "execution_count": 53,
   "metadata": {},
   "outputs": [],
   "source": [
    "CHUNK_SIZE = 1000\n",
    "CHUNK_OVERLAP = 500"
   ]
  },
  {
   "cell_type": "code",
   "execution_count": 54,
   "metadata": {},
   "outputs": [
    {
     "name": "stderr",
     "output_type": "stream",
     "text": [
      "Using embedded DuckDB without persistence: data will be transient\n",
      "Using embedded DuckDB without persistence: data will be transient\n"
     ]
    }
   ],
   "source": [
    "dataset_vectorizer = DatasetVectorizer()\n",
    "documents_1, texts_1, docsearch_1 = dataset_vectorizer.vectorize([TXTS[0]], chunk_size=CHUNK_SIZE, chunk_overlap=CHUNK_OVERLAP, openai_key=OPENAI_API_KEY)\n",
    "documents_2, texts_2, docsearch_2 = dataset_vectorizer.vectorize([TXTS[1]], chunk_size=CHUNK_SIZE, chunk_overlap=CHUNK_OVERLAP, openai_key=OPENAI_API_KEY)"
   ]
  },
  {
   "attachments": {},
   "cell_type": "markdown",
   "metadata": {},
   "source": [
    "## Asking questions"
   ]
  },
  {
   "cell_type": "code",
   "execution_count": 55,
   "metadata": {},
   "outputs": [],
   "source": [
    "QUESTIONS = [\n",
    "    'How good are the deductibles?',\n",
    "    \"How is the preventive care coverage?\",\n",
    "    'How this plan fits for remote workers in the US and abroad?',\n",
    "    'What is the maximum money amount that can be compensated?',\n",
    "    'Can I go to any hospital of my choice?',\n",
    "    'Are there any limitations that won\\'t allow to use the insurance?',\n",
    "    'Does it cover the family members of the applicant?',\n",
    "    'What are the healthcare procedures that are not covered by the insurance?',\n",
    "    'Can I use the insurance for the dental care?',\n",
    "    'Can I use the insurance in other countries?'\n",
    "]"
   ]
  },
  {
   "cell_type": "code",
   "execution_count": 56,
   "metadata": {},
   "outputs": [
    {
     "name": "stderr",
     "output_type": "stream",
     "text": [
      "/Users/oleksandrhonchar/miniforge3/lib/python3.9/site-packages/langchain/chains/retrieval_qa/base.py:185: UserWarning: `VectorDBQA` is deprecated - please use `from langchain.chains import RetrievalQA`\n",
      "  warnings.warn(\n"
     ]
    }
   ],
   "source": [
    "llm = OpenAI(model_name='text-davinci-003', temperature=0, openai_api_key=OPENAI_API_KEY)\n",
    "qa_chain_1 = VectorDBQA.from_chain_type(llm=llm, chain_type='stuff', vectorstore=docsearch_1)\n",
    "qa_chain_2 = VectorDBQA.from_chain_type(llm=llm, chain_type='stuff', vectorstore=docsearch_2)"
   ]
  },
  {
   "cell_type": "code",
   "execution_count": 57,
   "metadata": {},
   "outputs": [
    {
     "name": "stdout",
     "output_type": "stream",
     "text": [
      "How good are the deductibles?\n",
      "EmblemHealth  The overall deductible is $4,700 individual / $9,400 family. There are no other specific deductibles. Certain preventive services are covered without cost-sharing and before you meet your deductible.\n",
      "MetroPlus  The deductibles are $6,100 for individuals and $12,200 for families.\n",
      "----------\n",
      "How is the preventive care coverage?\n",
      "EmblemHealth  This plan covers certain preventive services without cost-sharing and before you meet your deductible. See a list of covered preventive services at https://www.healthcare.gov/coverage/preventive-care-benefits/.\n",
      "MetroPlus  Preventive care is covered in full for participating providers. Non-participating providers are not covered and the member is responsible for the full cost.\n",
      "----------\n",
      "How this plan fits for remote workers in the US and abroad?\n",
      "EmblemHealth  This plan provides Minimum Essential Coverage and meets the Minimum Value Standard. It includes coverage for abortion services, bariatric surgery, chiropractic care, hearing aids, and infertility treatment. However, it does not cover dental care, long-term care, non-emergency care when traveling outside the US, private-duty nursing, routine foot care, routine hearing tests, and weight loss programs. Language access services are available in Spanish, Tagalog, Chinese, and Navajo. For more information about limitations and exceptions, see the plan or policy document at www.emblemhealth.com.\n",
      "MetroPlus  This plan does not provide any specific coverage for remote workers in the US or abroad.\n",
      "----------\n",
      "What is the maximum money amount that can be compensated?\n",
      "EmblemHealth  $4,840\n",
      "MetroPlus  $200 per six (6) month period, plus an additional $100 per six (6) month period for a spouse.\n",
      "----------\n",
      "Can I go to any hospital of my choice?\n",
      "EmblemHealth  No, you need to use a provider in the plan's network to pay less. You will pay the most if you use a non-participating provider, and you might receive a bill from a provider for the difference between the provider’s charge and what your plan pays (balance billing).\n",
      "MetroPlus  No, you must go to a participating provider in order to be covered by the insurance. Non-participating provider services are not covered and you must pay the full cost.\n",
      "----------\n",
      "Are there any limitations that won't allow to use the insurance?\n",
      "EmblemHealth  Yes, there are limitations that won't allow you to use the insurance. These include services such as acupuncture, cosmetic surgery, dental care, long-term care, non-emergency care when traveling outside the U.S., private-duty nursing, routine foot care, routine hearing tests, and weight loss programs.\n",
      "MetroPlus  Yes, services provided by non-participating providers are not covered and you have to pay the full cost. Additionally, there is a limit of 10 visits per calendar year for non-participating providers.\n",
      "----------\n",
      "Does it cover the family members of the applicant?\n",
      "EmblemHealth  Yes, the overall family deductible must be met before the plan begins to pay.\n",
      "MetroPlus  No, it does not cover the family members of the applicant.\n",
      "----------\n",
      "What are the healthcare procedures that are not covered by the insurance?\n",
      "EmblemHealth  Visiting a health care provider's office or clinic, diagnostic tests, imaging, prescription drugs, skilled nursing care, durable medical equipment, hospice services, children's eye exam, children's glasses, children's dental check-up, home health care, rehabilitation services, and habilitation services are not covered by the insurance.\n",
      "MetroPlus  Mammograms, Sterilization Procedures for Women, Vasectomy, Bone Density Testing, Screening for Prostate Cancer, All other preventive services required by USPSTF and HRSA, Home infusion, Inpatient Medical Visits, Interruption of Pregnancy, Medically Necessary Abortions, Elective Abortions, Laboratory Procedures performed in a PCP Office, Laboratory Procedures performed in a Specialist Office, Laboratory Procedures performed in a Freestanding Laboratory Facility, Dialysis performed by a Specialist Office, Dialysis performed in a Freestanding Center, Dialysis performed as Outpatient Hospital Services, Dialysis performed at Home.\n",
      "----------\n",
      "Can I use the insurance for the dental care?\n",
      "EmblemHealth  Yes, this plan covers children's dental check-ups with a $50 copayment after the deductible is met.\n",
      "MetroPlus  Yes, you can use the insurance for the dental care. The participating provider member responsibility for cost-sharing is 50% coinsurance after the deductible for preventive, routine, major dental care, and orthodontics. Non-participating provider services are not covered and you pay the full cost.\n",
      "----------\n",
      "Can I use the insurance in other countries?\n",
      "EmblemHealth  No, this plan does not cover non-emergency care when traveling outside the U.S.\n",
      "MetroPlus  No, this insurance plan does not cover services outside of the United States.\n",
      "----------\n"
     ]
    }
   ],
   "source": [
    "summary_of_answers = \"\"\n",
    "for q in QUESTIONS:\n",
    "    print(q)\n",
    "    answer_1, answer_2 = qa_chain_1.run(q), qa_chain_2.run(q)\n",
    "    summary_of_answers += \"Question: \" + q + \"\\n\"\n",
    "    summary_of_answers += f\"{NAMES[0]} answer: \" + answer_1 + f\";\\n {NAMES[1]} answer: \" + answer_2 + \"\\n\"\n",
    "    print(NAMES[0], answer_1)\n",
    "    print(NAMES[1], answer_2)\n",
    "    print('-' * 10)"
   ]
  },
  {
   "cell_type": "code",
   "execution_count": 58,
   "metadata": {},
   "outputs": [
    {
     "data": {
      "text/plain": [
       "1050"
      ]
     },
     "execution_count": 58,
     "metadata": {},
     "output_type": "execute_result"
    }
   ],
   "source": [
    "encoder = tiktoken.encoding_for_model(\"gpt-3.5-turbo\")\n",
    "len(encoder.encode(summary_of_answers))"
   ]
  },
  {
   "cell_type": "code",
   "execution_count": 59,
   "metadata": {},
   "outputs": [
    {
     "name": "stdout",
     "output_type": "stream",
     "text": [
      "Question: How good are the deductibles?\n",
      "EmblemHealth answer:  The overall deductible is $4,700 individual / $9,400 family. There are no other specific deductibles. Certain preventive services are covered without cost-sharing and before you meet your deductible.;\n",
      " MetroPlus answer:  The deductibles are $6,100 for individuals and $12,200 for families.\n",
      "Question: How is the preventive care coverage?\n",
      "EmblemHealth answer:  This plan covers certain preventive services without cost-sharing and before you meet your deductible. See a list of covered preventive services at https://www.healthcare.gov/coverage/preventive-care-benefits/.;\n",
      " MetroPlus answer:  Preventive care is covered in full for participating providers. Non-participating providers are not covered and the member is responsible for the full cost.\n",
      "Question: How this plan fits for remote workers in the US and abroad?\n",
      "EmblemHealth answer:  This plan provides Minimum Essential Coverage and meets the Minimum Value Standard. It includes coverage for abortion services, bariatric surgery, chiropractic care, hearing aids, and infertility treatment. However, it does not cover dental care, long-term care, non-emergency care when traveling outside the US, private-duty nursing, routine foot care, routine hearing tests, and weight loss programs. Language access services are available in Spanish, Tagalog, Chinese, and Navajo. For more information about limitations and exceptions, see the plan or policy document at www.emblemhealth.com.;\n",
      " MetroPlus answer:  This plan does not provide any specific coverage for remote workers in the US or abroad.\n",
      "Question: What is the maximum money amount that can be compensated?\n",
      "EmblemHealth answer:  $4,840;\n",
      " MetroPlus answer:  $200 per six (6) month period, plus an additional $100 per six (6) month period for a spouse.\n",
      "Question: Can I go to any hospital of my choice?\n",
      "EmblemHealth answer:  No, you need to use a provider in the plan's network to pay less. You will pay the most if you use a non-participating provider, and you might receive a bill from a provider for the difference between the provider’s charge and what your plan pays (balance billing).;\n",
      " MetroPlus answer:  No, you must go to a participating provider in order to be covered by the insurance. Non-participating provider services are not covered and you must pay the full cost.\n",
      "Question: Are there any limitations that won't allow to use the insurance?\n",
      "EmblemHealth answer:  Yes, there are limitations that won't allow you to use the insurance. These include services such as acupuncture, cosmetic surgery, dental care, long-term care, non-emergency care when traveling outside the U.S., private-duty nursing, routine foot care, routine hearing tests, and weight loss programs.;\n",
      " MetroPlus answer:  Yes, services provided by non-participating providers are not covered and you have to pay the full cost. Additionally, there is a limit of 10 visits per calendar year for non-participating providers.\n",
      "Question: Does it cover the family members of the applicant?\n",
      "EmblemHealth answer:  Yes, the overall family deductible must be met before the plan begins to pay.;\n",
      " MetroPlus answer:  No, it does not cover the family members of the applicant.\n",
      "Question: What are the healthcare procedures that are not covered by the insurance?\n",
      "EmblemHealth answer:  Visiting a health care provider's office or clinic, diagnostic tests, imaging, prescription drugs, skilled nursing care, durable medical equipment, hospice services, children's eye exam, children's glasses, children's dental check-up, home health care, rehabilitation services, and habilitation services are not covered by the insurance.;\n",
      " MetroPlus answer:  Mammograms, Sterilization Procedures for Women, Vasectomy, Bone Density Testing, Screening for Prostate Cancer, All other preventive services required by USPSTF and HRSA, Home infusion, Inpatient Medical Visits, Interruption of Pregnancy, Medically Necessary Abortions, Elective Abortions, Laboratory Procedures performed in a PCP Office, Laboratory Procedures performed in a Specialist Office, Laboratory Procedures performed in a Freestanding Laboratory Facility, Dialysis performed by a Specialist Office, Dialysis performed in a Freestanding Center, Dialysis performed as Outpatient Hospital Services, Dialysis performed at Home.\n",
      "Question: Can I use the insurance for the dental care?\n",
      "EmblemHealth answer:  Yes, this plan covers children's dental check-ups with a $50 copayment after the deductible is met.;\n",
      " MetroPlus answer:  Yes, you can use the insurance for the dental care. The participating provider member responsibility for cost-sharing is 50% coinsurance after the deductible for preventive, routine, major dental care, and orthodontics. Non-participating provider services are not covered and you pay the full cost.\n",
      "Question: Can I use the insurance in other countries?\n",
      "EmblemHealth answer:  No, this plan does not cover non-emergency care when traveling outside the U.S.;\n",
      " MetroPlus answer:  No, this insurance plan does not cover services outside of the United States.\n",
      "\n"
     ]
    }
   ],
   "source": [
    "print(summary_of_answers)"
   ]
  },
  {
   "attachments": {},
   "cell_type": "markdown",
   "metadata": {},
   "source": [
    "## Asking to compare the answers"
   ]
  },
  {
   "cell_type": "code",
   "execution_count": 60,
   "metadata": {},
   "outputs": [],
   "source": [
    "template = \"\"\"\n",
    "I want you to act as an expert in insurance policies. I have asked two companies about their insurance policies and here are their answers:\n",
    "{summary_of_answers}\n",
    "I am looking for insurance for a full-remote consulting company with 100 employees. I want you to tell me which company is better and why.\n",
    "Give me a rating (x out of 10) for the following categories for each company separately with a short explanation (10 words max) for each category:\n",
    "1. Coverage of different health procedures\n",
    "2. Flexibility for remote workers abroad\n",
    "3. Price and compensation\n",
    "Your answer:\n",
    "\"\"\"\n",
    "\n",
    "prompt = PromptTemplate(\n",
    "    input_variables=[\"summary_of_answers\"],\n",
    "    template=template,\n",
    ")"
   ]
  },
  {
   "cell_type": "code",
   "execution_count": 61,
   "metadata": {},
   "outputs": [],
   "source": [
    "llm = OpenAI(model_name='text-davinci-003', temperature=0, openai_api_key=OPENAI_API_KEY, request_timeout=60)\n",
    "chain = LLMChain(llm=llm, prompt=prompt)"
   ]
  },
  {
   "cell_type": "code",
   "execution_count": 62,
   "metadata": {},
   "outputs": [],
   "source": [
    "answer = chain.run(summary_of_answers)"
   ]
  },
  {
   "cell_type": "code",
   "execution_count": 63,
   "metadata": {},
   "outputs": [
    {
     "name": "stdout",
     "output_type": "stream",
     "text": [
      "\n",
      "EmblemHealth: \n",
      "1. Coverage of different health procedures: 8/10 - covers most procedures. \n",
      "2. Flexibility for remote workers abroad: 4/10 - no coverage outside US. \n",
      "3. Price and compensation: 7/10 - reasonable deductible.\n",
      "\n",
      "MetroPlus: \n",
      "1. Coverage of different health procedures: 6/10 - some procedures not covered. \n",
      "2. Flexibility for remote workers abroad: 2/10 - no coverage outside US. \n",
      "3. Price and compensation: 8/10 - reasonable deductible and compensation.\n",
      "\n",
      "Overall, EmblemHealth is the better option for a full-remote consulting company with 100 employees. It offers better coverage of different health procedures and a more reasonable price and compensation.\n"
     ]
    }
   ],
   "source": [
    "print(answer)"
   ]
  },
  {
   "cell_type": "code",
   "execution_count": null,
   "metadata": {},
   "outputs": [],
   "source": []
  }
 ],
 "metadata": {
  "kernelspec": {
   "display_name": "Python 3 (ipykernel)",
   "language": "python",
   "name": "python3"
  },
  "language_info": {
   "codemirror_mode": {
    "name": "ipython",
    "version": 3
   },
   "file_extension": ".py",
   "mimetype": "text/x-python",
   "name": "python",
   "nbconvert_exporter": "python",
   "pygments_lexer": "ipython3",
   "version": "3.9.6"
  }
 },
 "nbformat": 4,
 "nbformat_minor": 2
}
